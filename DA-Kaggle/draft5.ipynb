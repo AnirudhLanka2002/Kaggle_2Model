{
 "cells": [
  {
   "cell_type": "code",
   "execution_count": 1,
   "metadata": {},
   "outputs": [],
   "source": [
    "import pandas as pd\n",
    "from sklearn.preprocessing import StandardScaler, LabelEncoder\n",
    "from sklearn.model_selection import GridSearchCV\n",
    "from sklearn.ensemble import RandomForestClassifier, RandomForestRegressor\n"
   ]
  },
  {
   "cell_type": "code",
   "execution_count": 2,
   "metadata": {},
   "outputs": [],
   "source": [
    "# Load the training data\n",
    "train_data = pd.read_csv('train.csv')\n",
    "\n",
    "# Preprocess 'Date' column\n",
    "train_data['Date'] = pd.to_datetime(train_data['Date'])\n",
    "train_data['Date'] = train_data['Date'].dt.year * 10000 + train_data['Date'].dt.month * 100 + train_data['Date'].dt.day\n",
    "\n",
    "# Drop rows with missing values\n",
    "train_data.dropna(inplace=True)\n",
    "\n",
    "# Split features and labels for training\n",
    "X_train = train_data.drop(['Strategy', 'Close'], axis=1)\n",
    "y_strategy_train = train_data['Strategy']\n",
    "y_close_train = train_data['Close']\n",
    "\n",
    "# Encode 'Strategy' labels\n",
    "label_encoder = LabelEncoder()\n",
    "y_strategy_encoded_train = label_encoder.fit_transform(y_strategy_train)\n"
   ]
  },
  {
   "cell_type": "code",
   "execution_count": 3,
   "metadata": {},
   "outputs": [],
   "source": [
    "# Standardize features\n",
    "scaler = StandardScaler()\n",
    "X_train_scaled = scaler.fit_transform(X_train)\n",
    "\n",
    "# Hyperparameter tuning for RandomForestClassifier\n",
    "param_grid_classifier = {\n",
    "    'n_estimators': [100, 150, 200],\n",
    "    'max_depth': [15, 20, 25],\n",
    "    'min_samples_split': [2, 5, 10],\n",
    "    'min_samples_leaf': [1, 2, 4]\n",
    "}\n",
    "\n",
    "grid_search_classifier = GridSearchCV(\n",
    "    estimator=RandomForestClassifier(random_state=42),\n",
    "    param_grid=param_grid_classifier,\n",
    "    cv=5,\n",
    "    n_jobs=-1\n",
    ")\n",
    "grid_search_classifier.fit(X_train_scaled, y_strategy_encoded_train)\n",
    "best_classifier = grid_search_classifier.best_estimator_\n",
    "\n",
    "# Hyperparameter tuning for RandomForestRegressor\n",
    "param_grid_regressor = {\n",
    "    'n_estimators': [100, 150, 200],\n",
    "    'max_depth': [15, 20, 25],\n",
    "    'min_samples_split': [2, 5, 10],\n",
    "    'min_samples_leaf': [1, 2, 4]\n",
    "}"
   ]
  },
  {
   "cell_type": "code",
   "execution_count": 4,
   "metadata": {},
   "outputs": [],
   "source": [
    "grid_search_regressor = GridSearchCV(\n",
    "    estimator=RandomForestRegressor(random_state=42),\n",
    "    param_grid=param_grid_regressor,\n",
    "    cv=5,\n",
    "    n_jobs=-1\n",
    ")\n",
    "grid_search_regressor.fit(X_train_scaled, y_close_train)\n",
    "best_regressor = grid_search_regressor.best_estimator_"
   ]
  },
  {
   "cell_type": "code",
   "execution_count": 5,
   "metadata": {},
   "outputs": [
    {
     "name": "stdout",
     "output_type": "stream",
     "text": [
      "Predictions saved to 'sample_submission4.csv'\n"
     ]
    }
   ],
   "source": [
    "# Load the test data\n",
    "test_data = pd.read_csv('test.csv')\n",
    "\n",
    "# Preprocess 'Date' column for test data\n",
    "test_data['Date'] = pd.to_datetime(test_data['Date'])\n",
    "test_data['Date'] = test_data['Date'].dt.year * 10000 + test_data['Date'].dt.month * 100 + test_data['Date'].dt.day\n",
    "\n",
    "# Standardize features for test data\n",
    "X_test_scaled = scaler.transform(test_data)\n",
    "\n",
    "# Make predictions for 'Strategy'\n",
    "strategy_pred = best_classifier.predict(X_test_scaled)\n",
    "\n",
    "# Decode 'Strategy' predictions\n",
    "decoded_strategy_pred = label_encoder.inverse_transform(strategy_pred)\n",
    "\n",
    "# Make predictions for 'Close'\n",
    "close_pred = best_regressor.predict(X_test_scaled)\n",
    "\n",
    "# Output predictions to a DataFrame\n",
    "predictions_df = pd.DataFrame({\n",
    "    'id': test_data['id'],  # Include 'id' column in the predictions\n",
    "    'Date': test_data['Date'],\n",
    "    'Close': close_pred,\n",
    "    'Strategy': decoded_strategy_pred\n",
    "})\n",
    "\n",
    "# Save predictions to a CSV file\n",
    "predictions_df.to_csv('sample_submission4.csv', index=False)\n",
    "\n",
    "print(\"Predictions saved to 'sample_submission4.csv'\")"
   ]
  }
 ],
 "metadata": {
  "kernelspec": {
   "display_name": "Python 3",
   "language": "python",
   "name": "python3"
  },
  "language_info": {
   "codemirror_mode": {
    "name": "ipython",
    "version": 3
   },
   "file_extension": ".py",
   "mimetype": "text/x-python",
   "name": "python",
   "nbconvert_exporter": "python",
   "pygments_lexer": "ipython3",
   "version": "3.10.4"
  }
 },
 "nbformat": 4,
 "nbformat_minor": 2
}
