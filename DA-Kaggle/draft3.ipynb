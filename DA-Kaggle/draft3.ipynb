{
 "cells": [
  {
   "cell_type": "code",
   "execution_count": 1,
   "metadata": {},
   "outputs": [],
   "source": [
    "import pandas as pd\n",
    "import numpy as np\n",
    "from sklearn.preprocessing import StandardScaler, LabelEncoder\n",
    "from sklearn.model_selection import train_test_split, GridSearchCV\n",
    "from sklearn.ensemble import RandomForestClassifier, RandomForestRegressor\n",
    "from sklearn.metrics import accuracy_score, mean_squared_error"
   ]
  },
  {
   "cell_type": "code",
   "execution_count": 2,
   "metadata": {},
   "outputs": [],
   "source": [
    "\n",
    "data = pd.read_csv('train.csv')\n",
    "\n",
    "data['Date'] = pd.to_datetime(data['Date'])\n",
    "data['Date'] = data['Date'].dt.year * 10000 + data['Date'].dt.month * 100 + data['Date'].dt.day\n",
    "\n",
    "data.dropna(inplace=True)\n",
    "\n",
    "X = data.drop(['Strategy', 'Close'], axis=1)\n",
    "y_strategy = data['Strategy']\n",
    "y_close = data['Close']\n",
    "\n",
    "label_encoder = LabelEncoder()\n",
    "y_strategy_encoded = label_encoder.fit_transform(y_strategy)\n",
    "\n",
    "scaler = StandardScaler()\n",
    "X_scaled = scaler.fit_transform(X)\n"
   ]
  },
  {
   "cell_type": "code",
   "execution_count": 3,
   "metadata": {},
   "outputs": [],
   "source": [
    "# Split data into train and test sets\n",
    "X_train, X_test, strategy_train, strategy_test, close_train, close_test = train_test_split(\n",
    "    X_scaled, y_strategy_encoded, y_close, test_size=0.3, random_state=42\n",
    ")\n",
    "\n",
    "# Hyperparameter tuning for RandomForestClassifier\n",
    "param_grid_classifier = {\n",
    "    'n_estimators': [100, 150, 200],\n",
    "    'max_depth': [15, 20, 25],\n",
    "    'min_samples_split': [2, 5, 10],\n",
    "    'min_samples_leaf': [1, 2, 4]\n",
    "}\n",
    "\n",
    "grid_search_classifier = GridSearchCV(estimator=RandomForestClassifier(random_state=42),\n",
    "                                      param_grid=param_grid_classifier, cv=5, n_jobs=-1)\n",
    "grid_search_classifier.fit(X_train, strategy_train)\n",
    "best_classifier = grid_search_classifier.best_estimator_"
   ]
  },
  {
   "cell_type": "code",
   "execution_count": 4,
   "metadata": {},
   "outputs": [],
   "source": [
    "param_grid_regressor = {\n",
    "    'n_estimators': [100, 150, 200],\n",
    "    'max_depth': [15, 20, 25],\n",
    "    'min_samples_split': [2, 5, 10],\n",
    "    'min_samples_leaf': [1, 2, 4]\n",
    "}\n",
    "\n",
    "grid_search_regressor = GridSearchCV(estimator=RandomForestRegressor(random_state=42),\n",
    "                                     param_grid=param_grid_regressor, cv=5, n_jobs=-1)\n",
    "grid_search_regressor.fit(X_train, close_train)\n",
    "best_regressor = grid_search_regressor.best_estimator_"
   ]
  },
  {
   "cell_type": "code",
   "execution_count": 5,
   "metadata": {},
   "outputs": [
    {
     "name": "stdout",
     "output_type": "stream",
     "text": [
      "Strategy Accuracy: 0.67\n",
      "Close RMSE: 4.18\n"
     ]
    }
   ],
   "source": [
    "strategy_pred = best_classifier.predict(X_test)\n",
    "close_pred = best_regressor.predict(X_test)\n",
    "\n",
    "decoded_strategy_pred = label_encoder.inverse_transform(strategy_pred)\n",
    "\n",
    "strategy_accuracy = accuracy_score(strategy_test, strategy_pred)\n",
    "print(f'Strategy Accuracy: {strategy_accuracy:.2f}')\n",
    "\n",
    "close_rmse = np.sqrt(mean_squared_error(close_test, close_pred))\n",
    "print(f'Close RMSE: {close_rmse:.2f}')"
   ]
  }
 ],
 "metadata": {
  "kernelspec": {
   "display_name": "Python 3",
   "language": "python",
   "name": "python3"
  },
  "language_info": {
   "codemirror_mode": {
    "name": "ipython",
    "version": 3
   },
   "file_extension": ".py",
   "mimetype": "text/x-python",
   "name": "python",
   "nbconvert_exporter": "python",
   "pygments_lexer": "ipython3",
   "version": "3.10.4"
  }
 },
 "nbformat": 4,
 "nbformat_minor": 2
}
