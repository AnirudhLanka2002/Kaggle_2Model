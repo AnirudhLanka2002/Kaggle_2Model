{
 "cells": [
  {
   "cell_type": "markdown",
   "metadata": {},
   "source": [
    "## Importing All Modules"
   ]
  },
  {
   "cell_type": "code",
   "execution_count": 171,
   "metadata": {},
   "outputs": [],
   "source": [
    "import pandas as pd\n",
    "import numpy as np\n",
    "from sklearn.preprocessing import StandardScaler, LabelEncoder\n",
    "from sklearn.model_selection import train_test_split\n",
    "from sklearn.ensemble import RandomForestClassifier, RandomForestRegressor\n",
    "from sklearn.metrics import accuracy_score, mean_squared_error\n",
    "import matplotlib.pyplot as plt\n",
    "import seaborn as sns"
   ]
  },
  {
   "cell_type": "markdown",
   "metadata": {},
   "source": [
    "## Model Training and Analysis"
   ]
  },
  {
   "cell_type": "markdown",
   "metadata": {},
   "source": [
    "### Getting Data Ready"
   ]
  },
  {
   "cell_type": "markdown",
   "metadata": {},
   "source": [
    "<h3>Importing the data</h3>"
   ]
  },
  {
   "cell_type": "code",
   "execution_count": 172,
   "metadata": {},
   "outputs": [],
   "source": [
    "data = pd.read_csv('train.csv')"
   ]
  },
  {
   "cell_type": "markdown",
   "metadata": {},
   "source": [
    "<h3>Converting date to YYYYMMDD format.</h3><br/> Basically, date is given in string format, I just turned it into the numerical format and stored it inplace"
   ]
  },
  {
   "cell_type": "code",
   "execution_count": 173,
   "metadata": {},
   "outputs": [
    {
     "name": "stdout",
     "output_type": "stream",
     "text": [
      "      id      Date       Open      Close     Volume Strategy\n",
      "0      0  20150601  66.208486  75.609978  298506300     Hold\n",
      "1      1  20150608  64.116235  74.443331  227974800     Hold\n",
      "2      2  20150615  47.701942  71.140831  250670900      Buy\n",
      "3      3  20150622  54.754816  72.881344  223614300     Hold\n",
      "4      4  20150629  48.031899  66.284718  406814900      Buy\n",
      "..   ...       ...        ...        ...        ...      ...\n",
      "295  295  20210125  81.284821  83.373498  117281600     Sell\n",
      "296  296  20210201  71.970249  85.294903  177655800     Sell\n",
      "297  297  20210208  71.784627  83.266453  146003500     Hold\n",
      "298  298  20210215  69.372333  81.026827  167762500     Hold\n",
      "299  299  20210222  69.618620  78.672007  332979200     Hold\n",
      "\n",
      "[300 rows x 6 columns]\n"
     ]
    }
   ],
   "source": [
    "data['Date'] = pd.to_datetime(data['Date'])\n",
    "data['Date'] = data['Date'].dt.year * 10000 + data['Date'].dt.month * 100 + data['Date'].dt.day\n",
    "print(data)"
   ]
  },
  {
   "cell_type": "markdown",
   "metadata": {},
   "source": [
    "<h3>Dropping NA Columns. This is a precautionary step, the Data set we were given is clean</h3>"
   ]
  },
  {
   "cell_type": "code",
   "execution_count": 174,
   "metadata": {},
   "outputs": [
    {
     "data": {
      "text/html": [
       "<div>\n",
       "<style scoped>\n",
       "    .dataframe tbody tr th:only-of-type {\n",
       "        vertical-align: middle;\n",
       "    }\n",
       "\n",
       "    .dataframe tbody tr th {\n",
       "        vertical-align: top;\n",
       "    }\n",
       "\n",
       "    .dataframe thead th {\n",
       "        text-align: right;\n",
       "    }\n",
       "</style>\n",
       "<table border=\"1\" class=\"dataframe\">\n",
       "  <thead>\n",
       "    <tr style=\"text-align: right;\">\n",
       "      <th></th>\n",
       "      <th>id</th>\n",
       "      <th>Date</th>\n",
       "      <th>Open</th>\n",
       "      <th>Close</th>\n",
       "      <th>Volume</th>\n",
       "      <th>Strategy</th>\n",
       "    </tr>\n",
       "  </thead>\n",
       "  <tbody>\n",
       "    <tr>\n",
       "      <th>0</th>\n",
       "      <td>0</td>\n",
       "      <td>20150601</td>\n",
       "      <td>66.208486</td>\n",
       "      <td>75.609978</td>\n",
       "      <td>298506300</td>\n",
       "      <td>Hold</td>\n",
       "    </tr>\n",
       "    <tr>\n",
       "      <th>1</th>\n",
       "      <td>1</td>\n",
       "      <td>20150608</td>\n",
       "      <td>64.116235</td>\n",
       "      <td>74.443331</td>\n",
       "      <td>227974800</td>\n",
       "      <td>Hold</td>\n",
       "    </tr>\n",
       "    <tr>\n",
       "      <th>2</th>\n",
       "      <td>2</td>\n",
       "      <td>20150615</td>\n",
       "      <td>47.701942</td>\n",
       "      <td>71.140831</td>\n",
       "      <td>250670900</td>\n",
       "      <td>Buy</td>\n",
       "    </tr>\n",
       "    <tr>\n",
       "      <th>3</th>\n",
       "      <td>3</td>\n",
       "      <td>20150622</td>\n",
       "      <td>54.754816</td>\n",
       "      <td>72.881344</td>\n",
       "      <td>223614300</td>\n",
       "      <td>Hold</td>\n",
       "    </tr>\n",
       "    <tr>\n",
       "      <th>4</th>\n",
       "      <td>4</td>\n",
       "      <td>20150629</td>\n",
       "      <td>48.031899</td>\n",
       "      <td>66.284718</td>\n",
       "      <td>406814900</td>\n",
       "      <td>Buy</td>\n",
       "    </tr>\n",
       "    <tr>\n",
       "      <th>...</th>\n",
       "      <td>...</td>\n",
       "      <td>...</td>\n",
       "      <td>...</td>\n",
       "      <td>...</td>\n",
       "      <td>...</td>\n",
       "      <td>...</td>\n",
       "    </tr>\n",
       "    <tr>\n",
       "      <th>295</th>\n",
       "      <td>295</td>\n",
       "      <td>20210125</td>\n",
       "      <td>81.284821</td>\n",
       "      <td>83.373498</td>\n",
       "      <td>117281600</td>\n",
       "      <td>Sell</td>\n",
       "    </tr>\n",
       "    <tr>\n",
       "      <th>296</th>\n",
       "      <td>296</td>\n",
       "      <td>20210201</td>\n",
       "      <td>71.970249</td>\n",
       "      <td>85.294903</td>\n",
       "      <td>177655800</td>\n",
       "      <td>Sell</td>\n",
       "    </tr>\n",
       "    <tr>\n",
       "      <th>297</th>\n",
       "      <td>297</td>\n",
       "      <td>20210208</td>\n",
       "      <td>71.784627</td>\n",
       "      <td>83.266453</td>\n",
       "      <td>146003500</td>\n",
       "      <td>Hold</td>\n",
       "    </tr>\n",
       "    <tr>\n",
       "      <th>298</th>\n",
       "      <td>298</td>\n",
       "      <td>20210215</td>\n",
       "      <td>69.372333</td>\n",
       "      <td>81.026827</td>\n",
       "      <td>167762500</td>\n",
       "      <td>Hold</td>\n",
       "    </tr>\n",
       "    <tr>\n",
       "      <th>299</th>\n",
       "      <td>299</td>\n",
       "      <td>20210222</td>\n",
       "      <td>69.618620</td>\n",
       "      <td>78.672007</td>\n",
       "      <td>332979200</td>\n",
       "      <td>Hold</td>\n",
       "    </tr>\n",
       "  </tbody>\n",
       "</table>\n",
       "<p>300 rows × 6 columns</p>\n",
       "</div>"
      ],
      "text/plain": [
       "      id      Date       Open      Close     Volume Strategy\n",
       "0      0  20150601  66.208486  75.609978  298506300     Hold\n",
       "1      1  20150608  64.116235  74.443331  227974800     Hold\n",
       "2      2  20150615  47.701942  71.140831  250670900      Buy\n",
       "3      3  20150622  54.754816  72.881344  223614300     Hold\n",
       "4      4  20150629  48.031899  66.284718  406814900      Buy\n",
       "..   ...       ...        ...        ...        ...      ...\n",
       "295  295  20210125  81.284821  83.373498  117281600     Sell\n",
       "296  296  20210201  71.970249  85.294903  177655800     Sell\n",
       "297  297  20210208  71.784627  83.266453  146003500     Hold\n",
       "298  298  20210215  69.372333  81.026827  167762500     Hold\n",
       "299  299  20210222  69.618620  78.672007  332979200     Hold\n",
       "\n",
       "[300 rows x 6 columns]"
      ]
     },
     "execution_count": 174,
     "metadata": {},
     "output_type": "execute_result"
    }
   ],
   "source": [
    "data.dropna()"
   ]
  },
  {
   "cell_type": "markdown",
   "metadata": {},
   "source": [
    "<h3>Separating the features from the labels</h3>"
   ]
  },
  {
   "cell_type": "markdown",
   "metadata": {},
   "source": [
    "Here we have 2 labels, one is the 'Strategy' column and the other is a 'Close' column. The 'Strategy' column is having 3 types of values which we will encode using LabelEncoder to turn them into Numerical format from the string format they are in"
   ]
  },
  {
   "cell_type": "code",
   "execution_count": 175,
   "metadata": {},
   "outputs": [],
   "source": [
    "# X = Features , y = Pred_Req\n",
    "X = data.drop(['Strategy','Close'] , axis = 1)\n",
    "y = data[['Close' , 'Strategy']]"
   ]
  },
  {
   "cell_type": "code",
   "execution_count": 176,
   "metadata": {},
   "outputs": [
    {
     "data": {
      "text/plain": [
       "(      id      Date       Open     Volume\n",
       " 0      0  20150601  66.208486  298506300\n",
       " 1      1  20150608  64.116235  227974800\n",
       " 2      2  20150615  47.701942  250670900\n",
       " 3      3  20150622  54.754816  223614300\n",
       " 4      4  20150629  48.031899  406814900\n",
       " ..   ...       ...        ...        ...\n",
       " 295  295  20210125  81.284821  117281600\n",
       " 296  296  20210201  71.970249  177655800\n",
       " 297  297  20210208  71.784627  146003500\n",
       " 298  298  20210215  69.372333  167762500\n",
       " 299  299  20210222  69.618620  332979200\n",
       " \n",
       " [300 rows x 4 columns],\n",
       "          Close Strategy\n",
       " 0    75.609978     Hold\n",
       " 1    74.443331     Hold\n",
       " 2    71.140831      Buy\n",
       " 3    72.881344     Hold\n",
       " 4    66.284718      Buy\n",
       " ..         ...      ...\n",
       " 295  83.373498     Sell\n",
       " 296  85.294903     Sell\n",
       " 297  83.266453     Hold\n",
       " 298  81.026827     Hold\n",
       " 299  78.672007     Hold\n",
       " \n",
       " [300 rows x 2 columns])"
      ]
     },
     "execution_count": 176,
     "metadata": {},
     "output_type": "execute_result"
    }
   ],
   "source": [
    "X,y"
   ]
  },
  {
   "cell_type": "markdown",
   "metadata": {},
   "source": [
    "<h3>Label Encoding the Strategy Column (as mentioned above)</h3>"
   ]
  },
  {
   "cell_type": "code",
   "execution_count": 177,
   "metadata": {},
   "outputs": [],
   "source": [
    "# Transforming \n",
    "Label_Encoder = LabelEncoder()\n",
    "strategy_cols = Label_Encoder.fit_transform(y['Strategy'])\n",
    "# Label_Encoder.inverse_transform(strategy_cols)  => To get it back"
   ]
  },
  {
   "cell_type": "code",
   "execution_count": 178,
   "metadata": {},
   "outputs": [
    {
     "data": {
      "text/plain": [
       "array([1, 1, 0, 1, 0, 0, 0, 0, 0, 0, 0, 0, 0, 0, 1, 1, 1, 1, 1, 1, 1, 0,\n",
       "       1, 1, 0, 1, 1, 1, 1, 2, 1, 2, 2, 2, 2, 2, 2, 2, 1, 1, 1, 1, 1, 1,\n",
       "       0, 0, 0, 0, 0, 1, 0, 0, 0, 0, 0, 0, 0, 0, 1, 1, 1, 0, 1, 1, 1, 1,\n",
       "       1, 1, 1, 1, 2, 2, 1, 2, 2, 2, 2, 2, 2, 2, 2, 2, 2, 1, 1, 1, 1, 1,\n",
       "       1, 2, 2, 1, 1, 1, 1, 2, 2, 2, 2, 2, 2, 2, 2, 1, 2, 2, 2, 2, 2, 2,\n",
       "       2, 1, 1, 1, 2, 2, 2, 2, 1, 2, 2, 2, 1, 1, 2, 2, 2, 1, 1, 1, 0, 1,\n",
       "       1, 1, 0, 0, 0, 1, 0, 1, 1, 0, 1, 1, 2, 1, 1, 1, 1, 1, 1, 1, 2, 2,\n",
       "       2, 2, 2, 2, 2, 2, 2, 1, 2, 1, 1, 2, 1, 1, 1, 1, 0, 0, 0, 0, 0, 0,\n",
       "       1, 1, 1, 1, 1, 1, 1, 1, 1, 1, 1, 0, 1, 2, 2, 2, 1, 1, 2, 2, 1, 2,\n",
       "       1, 1, 1, 1, 1, 1, 1, 0, 0, 0, 1, 0, 0, 0, 0, 0, 1, 0, 0, 0, 0, 0,\n",
       "       0, 1, 0, 1, 1, 2, 1, 1, 1, 1, 1, 1, 1, 0, 0, 1, 0, 0, 0, 0, 0, 0,\n",
       "       1, 1, 1, 1, 1, 1, 1, 1, 1, 1, 1, 1, 2, 2, 2, 1, 1, 1, 0, 0, 1, 2,\n",
       "       2, 1, 1, 0, 1, 0, 0, 1, 0, 0, 0, 0, 0, 0, 0, 0, 1, 0, 0, 1, 1, 1,\n",
       "       2, 1, 2, 2, 1, 2, 1, 2, 2, 2, 2, 1, 1, 1])"
      ]
     },
     "execution_count": 178,
     "metadata": {},
     "output_type": "execute_result"
    }
   ],
   "source": [
    "strategy_cols"
   ]
  },
  {
   "cell_type": "markdown",
   "metadata": {},
   "source": [
    "<h3>Separating the 'Close' values.</h3>\n",
    "<br/>The close_cols are the values in the close column of the main Dataset"
   ]
  },
  {
   "cell_type": "code",
   "execution_count": 179,
   "metadata": {},
   "outputs": [
    {
     "data": {
      "text/plain": [
       "0      75.609978\n",
       "1      74.443331\n",
       "2      71.140831\n",
       "3      72.881344\n",
       "4      66.284718\n",
       "         ...    \n",
       "295    83.373498\n",
       "296    85.294903\n",
       "297    83.266453\n",
       "298    81.026827\n",
       "299    78.672007\n",
       "Name: Close, Length: 300, dtype: float64"
      ]
     },
     "execution_count": 179,
     "metadata": {},
     "output_type": "execute_result"
    }
   ],
   "source": [
    "close_cols = y['Close']\n",
    "close_cols"
   ]
  },
  {
   "cell_type": "code",
   "execution_count": 180,
   "metadata": {},
   "outputs": [
    {
     "data": {
      "text/html": [
       "<div>\n",
       "<style scoped>\n",
       "    .dataframe tbody tr th:only-of-type {\n",
       "        vertical-align: middle;\n",
       "    }\n",
       "\n",
       "    .dataframe tbody tr th {\n",
       "        vertical-align: top;\n",
       "    }\n",
       "\n",
       "    .dataframe thead th {\n",
       "        text-align: right;\n",
       "    }\n",
       "</style>\n",
       "<table border=\"1\" class=\"dataframe\">\n",
       "  <thead>\n",
       "    <tr style=\"text-align: right;\">\n",
       "      <th></th>\n",
       "      <th>id</th>\n",
       "      <th>Date</th>\n",
       "      <th>Open</th>\n",
       "      <th>Volume</th>\n",
       "    </tr>\n",
       "  </thead>\n",
       "  <tbody>\n",
       "    <tr>\n",
       "      <th>0</th>\n",
       "      <td>0</td>\n",
       "      <td>20150601</td>\n",
       "      <td>66.208486</td>\n",
       "      <td>298506300</td>\n",
       "    </tr>\n",
       "    <tr>\n",
       "      <th>1</th>\n",
       "      <td>1</td>\n",
       "      <td>20150608</td>\n",
       "      <td>64.116235</td>\n",
       "      <td>227974800</td>\n",
       "    </tr>\n",
       "    <tr>\n",
       "      <th>2</th>\n",
       "      <td>2</td>\n",
       "      <td>20150615</td>\n",
       "      <td>47.701942</td>\n",
       "      <td>250670900</td>\n",
       "    </tr>\n",
       "    <tr>\n",
       "      <th>3</th>\n",
       "      <td>3</td>\n",
       "      <td>20150622</td>\n",
       "      <td>54.754816</td>\n",
       "      <td>223614300</td>\n",
       "    </tr>\n",
       "    <tr>\n",
       "      <th>4</th>\n",
       "      <td>4</td>\n",
       "      <td>20150629</td>\n",
       "      <td>48.031899</td>\n",
       "      <td>406814900</td>\n",
       "    </tr>\n",
       "    <tr>\n",
       "      <th>...</th>\n",
       "      <td>...</td>\n",
       "      <td>...</td>\n",
       "      <td>...</td>\n",
       "      <td>...</td>\n",
       "    </tr>\n",
       "    <tr>\n",
       "      <th>295</th>\n",
       "      <td>295</td>\n",
       "      <td>20210125</td>\n",
       "      <td>81.284821</td>\n",
       "      <td>117281600</td>\n",
       "    </tr>\n",
       "    <tr>\n",
       "      <th>296</th>\n",
       "      <td>296</td>\n",
       "      <td>20210201</td>\n",
       "      <td>71.970249</td>\n",
       "      <td>177655800</td>\n",
       "    </tr>\n",
       "    <tr>\n",
       "      <th>297</th>\n",
       "      <td>297</td>\n",
       "      <td>20210208</td>\n",
       "      <td>71.784627</td>\n",
       "      <td>146003500</td>\n",
       "    </tr>\n",
       "    <tr>\n",
       "      <th>298</th>\n",
       "      <td>298</td>\n",
       "      <td>20210215</td>\n",
       "      <td>69.372333</td>\n",
       "      <td>167762500</td>\n",
       "    </tr>\n",
       "    <tr>\n",
       "      <th>299</th>\n",
       "      <td>299</td>\n",
       "      <td>20210222</td>\n",
       "      <td>69.618620</td>\n",
       "      <td>332979200</td>\n",
       "    </tr>\n",
       "  </tbody>\n",
       "</table>\n",
       "<p>300 rows × 4 columns</p>\n",
       "</div>"
      ],
      "text/plain": [
       "      id      Date       Open     Volume\n",
       "0      0  20150601  66.208486  298506300\n",
       "1      1  20150608  64.116235  227974800\n",
       "2      2  20150615  47.701942  250670900\n",
       "3      3  20150622  54.754816  223614300\n",
       "4      4  20150629  48.031899  406814900\n",
       "..   ...       ...        ...        ...\n",
       "295  295  20210125  81.284821  117281600\n",
       "296  296  20210201  71.970249  177655800\n",
       "297  297  20210208  71.784627  146003500\n",
       "298  298  20210215  69.372333  167762500\n",
       "299  299  20210222  69.618620  332979200\n",
       "\n",
       "[300 rows x 4 columns]"
      ]
     },
     "execution_count": 180,
     "metadata": {},
     "output_type": "execute_result"
    }
   ],
   "source": [
    "X"
   ]
  },
  {
   "cell_type": "markdown",
   "metadata": {},
   "source": [
    "<h3>Standardization to avoid Outlier problems</h3>"
   ]
  },
  {
   "cell_type": "code",
   "execution_count": 181,
   "metadata": {},
   "outputs": [],
   "source": [
    "# Load the data\n",
    "data = \"\"\"Paste your data here\"\"\"\n",
    "\n",
    "df = pd.read_csv(\"train.csv\")\n",
    "\n",
    "numeric_cols = ['Open', 'Close', 'Volume']\n",
    "scaler = StandardScaler()\n",
    "df[numeric_cols] = scaler.fit_transform(df[numeric_cols])"
   ]
  },
  {
   "cell_type": "code",
   "execution_count": 182,
   "metadata": {},
   "outputs": [
    {
     "data": {
      "text/html": [
       "<div>\n",
       "<style scoped>\n",
       "    .dataframe tbody tr th:only-of-type {\n",
       "        vertical-align: middle;\n",
       "    }\n",
       "\n",
       "    .dataframe tbody tr th {\n",
       "        vertical-align: top;\n",
       "    }\n",
       "\n",
       "    .dataframe thead th {\n",
       "        text-align: right;\n",
       "    }\n",
       "</style>\n",
       "<table border=\"1\" class=\"dataframe\">\n",
       "  <thead>\n",
       "    <tr style=\"text-align: right;\">\n",
       "      <th></th>\n",
       "      <th>id</th>\n",
       "      <th>Date</th>\n",
       "      <th>Open</th>\n",
       "      <th>Volume</th>\n",
       "    </tr>\n",
       "  </thead>\n",
       "  <tbody>\n",
       "    <tr>\n",
       "      <th>0</th>\n",
       "      <td>0</td>\n",
       "      <td>20150601</td>\n",
       "      <td>66.208486</td>\n",
       "      <td>298506300</td>\n",
       "    </tr>\n",
       "    <tr>\n",
       "      <th>1</th>\n",
       "      <td>1</td>\n",
       "      <td>20150608</td>\n",
       "      <td>64.116235</td>\n",
       "      <td>227974800</td>\n",
       "    </tr>\n",
       "    <tr>\n",
       "      <th>2</th>\n",
       "      <td>2</td>\n",
       "      <td>20150615</td>\n",
       "      <td>47.701942</td>\n",
       "      <td>250670900</td>\n",
       "    </tr>\n",
       "    <tr>\n",
       "      <th>3</th>\n",
       "      <td>3</td>\n",
       "      <td>20150622</td>\n",
       "      <td>54.754816</td>\n",
       "      <td>223614300</td>\n",
       "    </tr>\n",
       "    <tr>\n",
       "      <th>4</th>\n",
       "      <td>4</td>\n",
       "      <td>20150629</td>\n",
       "      <td>48.031899</td>\n",
       "      <td>406814900</td>\n",
       "    </tr>\n",
       "    <tr>\n",
       "      <th>...</th>\n",
       "      <td>...</td>\n",
       "      <td>...</td>\n",
       "      <td>...</td>\n",
       "      <td>...</td>\n",
       "    </tr>\n",
       "    <tr>\n",
       "      <th>295</th>\n",
       "      <td>295</td>\n",
       "      <td>20210125</td>\n",
       "      <td>81.284821</td>\n",
       "      <td>117281600</td>\n",
       "    </tr>\n",
       "    <tr>\n",
       "      <th>296</th>\n",
       "      <td>296</td>\n",
       "      <td>20210201</td>\n",
       "      <td>71.970249</td>\n",
       "      <td>177655800</td>\n",
       "    </tr>\n",
       "    <tr>\n",
       "      <th>297</th>\n",
       "      <td>297</td>\n",
       "      <td>20210208</td>\n",
       "      <td>71.784627</td>\n",
       "      <td>146003500</td>\n",
       "    </tr>\n",
       "    <tr>\n",
       "      <th>298</th>\n",
       "      <td>298</td>\n",
       "      <td>20210215</td>\n",
       "      <td>69.372333</td>\n",
       "      <td>167762500</td>\n",
       "    </tr>\n",
       "    <tr>\n",
       "      <th>299</th>\n",
       "      <td>299</td>\n",
       "      <td>20210222</td>\n",
       "      <td>69.618620</td>\n",
       "      <td>332979200</td>\n",
       "    </tr>\n",
       "  </tbody>\n",
       "</table>\n",
       "<p>300 rows × 4 columns</p>\n",
       "</div>"
      ],
      "text/plain": [
       "      id      Date       Open     Volume\n",
       "0      0  20150601  66.208486  298506300\n",
       "1      1  20150608  64.116235  227974800\n",
       "2      2  20150615  47.701942  250670900\n",
       "3      3  20150622  54.754816  223614300\n",
       "4      4  20150629  48.031899  406814900\n",
       "..   ...       ...        ...        ...\n",
       "295  295  20210125  81.284821  117281600\n",
       "296  296  20210201  71.970249  177655800\n",
       "297  297  20210208  71.784627  146003500\n",
       "298  298  20210215  69.372333  167762500\n",
       "299  299  20210222  69.618620  332979200\n",
       "\n",
       "[300 rows x 4 columns]"
      ]
     },
     "execution_count": 182,
     "metadata": {},
     "output_type": "execute_result"
    }
   ],
   "source": [
    "X"
   ]
  },
  {
   "cell_type": "markdown",
   "metadata": {},
   "source": [
    "DATA IS READY!!!"
   ]
  },
  {
   "cell_type": "markdown",
   "metadata": {},
   "source": [
    "### Analytics (done separately taking a new instance)"
   ]
  },
  {
   "cell_type": "code",
   "execution_count": 183,
   "metadata": {},
   "outputs": [],
   "source": [
    "df = pd.read_csv(\"train.csv\")"
   ]
  },
  {
   "cell_type": "code",
   "execution_count": 184,
   "metadata": {},
   "outputs": [],
   "source": [
    "# Data Standardization\n",
    "numeric_cols = ['Open', 'Close', 'Volume']\n",
    "scaler = StandardScaler()\n",
    "df[numeric_cols] = scaler.fit_transform(df[numeric_cols])"
   ]
  },
  {
   "cell_type": "code",
   "execution_count": 203,
   "metadata": {},
   "outputs": [],
   "source": [
    "# Data Encoding\n",
    "encoder = LabelEncoder()\n",
    "df['Strategy'] = encoder.fit_transform(df['Strategy'])"
   ]
  },
  {
   "cell_type": "code",
   "execution_count": 204,
   "metadata": {},
   "outputs": [
    {
     "name": "stdout",
     "output_type": "stream",
     "text": [
      "\n",
      "DataFrame after Standardization and Encoding:\n",
      "    id        Date      Open     Close    Volume  Strategy\n",
      "0    0  2015-06-01 -0.605610 -0.275745  1.409105         1\n",
      "1    1  2015-06-08 -0.735310 -0.359947  0.520746         1\n",
      "2    2  2015-06-15 -1.752848 -0.598305  0.806608         0\n",
      "3    3  2015-06-22 -1.315633 -0.472684  0.465825         1\n",
      "4    4  2015-06-29 -1.732393 -0.948794  2.773275         0\n",
      "5    5  2015-07-06 -1.525189 -1.511086  5.091329         0\n",
      "6    6  2015-07-13 -1.867566 -1.382952  6.385018         0\n",
      "7    7  2015-07-20 -1.907925 -1.926491  1.758224         0\n",
      "8    8  2015-07-27 -1.647410 -1.664843  1.278443         0\n",
      "9    9  2015-08-03 -1.790089 -1.692879  1.359131         0\n",
      "10  10  2015-08-10 -1.999241 -1.797711  0.491184         0\n",
      "11  11  2015-08-17 -1.517547 -1.702187  1.101320         0\n",
      "12  12  2015-08-24 -1.081866 -1.843341  1.782498         0\n",
      "13  13  2015-08-31 -0.876803 -2.012983  1.080124         0\n",
      "14  14  2015-09-07 -1.218210 -1.634970  3.281129         1\n",
      "15  15  2015-09-14 -1.470977 -1.325501  1.635295         1\n",
      "16  16  2015-09-21 -1.348294 -1.070336  1.916759         1\n",
      "17  17  2015-09-28 -1.764001 -1.056811  3.929383         1\n",
      "18  18  2015-10-05 -1.745406 -1.427767  1.474151         1\n",
      "19  19  2015-10-12 -1.409785 -1.486838  0.877147         1\n"
     ]
    }
   ],
   "source": [
    "# Display the DataFrame after standardization and encoding\n",
    "print(\"\\nDataFrame after Standardization and Encoding:\")\n",
    "print(df.head(20))"
   ]
  },
  {
   "cell_type": "markdown",
   "metadata": {},
   "source": [
    "EDA Plot to understand the way open and close trends are over the year"
   ]
  },
  {
   "cell_type": "code",
   "execution_count": 205,
   "metadata": {},
   "outputs": [
    {
     "data": {
      "image/png": "[encoded data removed]",
      "text/plain": [
       "<Figure size 1200x600 with 1 Axes>"
      ]
     },
     "metadata": {},
     "output_type": "display_data"
    }
   ],
   "source": [
    "plt.figure(figsize=(12, 6))\n",
    "plt.plot(df['Date'], df['Open'], label='Open')\n",
    "plt.plot(df['Date'], df['Close'], label='Close')\n",
    "plt.title('Stock Prices Over Time')\n",
    "plt.xlabel('Date')\n",
    "plt.ylabel('Price')\n",
    "plt.legend()\n",
    "plt.show()"
   ]
  },
  {
   "cell_type": "markdown",
   "metadata": {},
   "source": [
    "Now, to do an analysis using correlation matrix and a heat map, we need to make sure we have the correct features and using the standardised values for the same."
   ]
  },
  {
   "cell_type": "code",
   "execution_count": 206,
   "metadata": {},
   "outputs": [],
   "source": [
    "df_num = df.drop([\"id\" , \"Date\"],axis = 1)"
   ]
  },
  {
   "cell_type": "code",
   "execution_count": 207,
   "metadata": {},
   "outputs": [
    {
     "name": "stdout",
     "output_type": "stream",
     "text": [
      "\n",
      "Correlation Matrix:\n",
      "              Open     Close    Volume  Strategy\n",
      "Open      1.000000  0.927795 -0.461010  0.298590\n",
      "Close     0.927795  1.000000 -0.458788  0.353171\n",
      "Volume   -0.461010 -0.458788  1.000000 -0.132971\n",
      "Strategy  0.298590  0.353171 -0.132971  1.000000\n"
     ]
    }
   ],
   "source": [
    "correlation_matrix = df_num.corr()\n",
    "print(\"\\nCorrelation Matrix:\")\n",
    "print(correlation_matrix)"
   ]
  },
  {
   "cell_type": "code",
   "execution_count": 208,
   "metadata": {},
   "outputs": [
    {
     "data": {
      "image/png": "[encoded data removed]",
      "text/plain": [
       "<Figure size 640x480 with 2 Axes>"
      ]
     },
     "metadata": {},
     "output_type": "display_data"
    }
   ],
   "source": [
    "sns.heatmap(correlation_matrix, annot=True, cmap='coolwarm', fmt=\".2f\")\n",
    "plt.title('Correlation Heatmap')\n",
    "plt.show()"
   ]
  },
  {
   "cell_type": "markdown",
   "metadata": {},
   "source": [
    "Strategy is a column with encoded labels and this is classifiable data. So to get a good comparision I used strategy distribution plot which is essentially just a bar graph representing the counts of each label."
   ]
  },
  {
   "cell_type": "code",
   "execution_count": 209,
   "metadata": {},
   "outputs": [
    {
     "data": {
      "image/png": "[encoded data removed]",
      "text/plain": [
       "<Figure size 800x500 with 1 Axes>"
      ]
     },
     "metadata": {},
     "output_type": "display_data"
    }
   ],
   "source": [
    "plt.figure(figsize=(8, 5))\n",
    "df['Strategy'].value_counts().plot(kind='bar')\n",
    "plt.title('Distribution of Strategies')\n",
    "plt.xlabel('Strategy')\n",
    "plt.ylabel('Count')\n",
    "plt.show()"
   ]
  },
  {
   "cell_type": "markdown",
   "metadata": {},
   "source": [
    "### Test Train Split"
   ]
  },
  {
   "cell_type": "code",
   "execution_count": 210,
   "metadata": {},
   "outputs": [],
   "source": [
    "X_train, X_test, strategy_train, strategy_test, close_train, close_test = train_test_split(\n",
    "    X, strategy_cols, close_cols, test_size=0.3, random_state=42\n",
    ")"
   ]
  },
  {
   "cell_type": "code",
   "execution_count": 211,
   "metadata": {},
   "outputs": [
    {
     "data": {
      "text/html": [
       "<div>\n",
       "<style scoped>\n",
       "    .dataframe tbody tr th:only-of-type {\n",
       "        vertical-align: middle;\n",
       "    }\n",
       "\n",
       "    .dataframe tbody tr th {\n",
       "        vertical-align: top;\n",
       "    }\n",
       "\n",
       "    .dataframe thead th {\n",
       "        text-align: right;\n",
       "    }\n",
       "</style>\n",
       "<table border=\"1\" class=\"dataframe\">\n",
       "  <thead>\n",
       "    <tr style=\"text-align: right;\">\n",
       "      <th></th>\n",
       "      <th>id</th>\n",
       "      <th>Date</th>\n",
       "      <th>Open</th>\n",
       "      <th>Volume</th>\n",
       "    </tr>\n",
       "  </thead>\n",
       "  <tbody>\n",
       "    <tr>\n",
       "      <th>194</th>\n",
       "      <td>194</td>\n",
       "      <td>20190218</td>\n",
       "      <td>95.286393</td>\n",
       "      <td>152515700</td>\n",
       "    </tr>\n",
       "    <tr>\n",
       "      <th>101</th>\n",
       "      <td>101</td>\n",
       "      <td>20170508</td>\n",
       "      <td>82.882052</td>\n",
       "      <td>266072400</td>\n",
       "    </tr>\n",
       "    <tr>\n",
       "      <th>68</th>\n",
       "      <td>68</td>\n",
       "      <td>20160919</td>\n",
       "      <td>53.519055</td>\n",
       "      <td>173135900</td>\n",
       "    </tr>\n",
       "    <tr>\n",
       "      <th>224</th>\n",
       "      <td>224</td>\n",
       "      <td>20190916</td>\n",
       "      <td>86.886132</td>\n",
       "      <td>118980100</td>\n",
       "    </tr>\n",
       "    <tr>\n",
       "      <th>37</th>\n",
       "      <td>37</td>\n",
       "      <td>20160215</td>\n",
       "      <td>61.679659</td>\n",
       "      <td>253044000</td>\n",
       "    </tr>\n",
       "    <tr>\n",
       "      <th>...</th>\n",
       "      <td>...</td>\n",
       "      <td>...</td>\n",
       "      <td>...</td>\n",
       "      <td>...</td>\n",
       "    </tr>\n",
       "    <tr>\n",
       "      <th>188</th>\n",
       "      <td>188</td>\n",
       "      <td>20190107</td>\n",
       "      <td>92.847220</td>\n",
       "      <td>183787600</td>\n",
       "    </tr>\n",
       "    <tr>\n",
       "      <th>71</th>\n",
       "      <td>71</td>\n",
       "      <td>20161010</td>\n",
       "      <td>56.970428</td>\n",
       "      <td>232554500</td>\n",
       "    </tr>\n",
       "    <tr>\n",
       "      <th>106</th>\n",
       "      <td>106</td>\n",
       "      <td>20170612</td>\n",
       "      <td>97.619622</td>\n",
       "      <td>175844000</td>\n",
       "    </tr>\n",
       "    <tr>\n",
       "      <th>270</th>\n",
       "      <td>270</td>\n",
       "      <td>20200803</td>\n",
       "      <td>74.594197</td>\n",
       "      <td>135904400</td>\n",
       "    </tr>\n",
       "    <tr>\n",
       "      <th>102</th>\n",
       "      <td>102</td>\n",
       "      <td>20170515</td>\n",
       "      <td>92.449654</td>\n",
       "      <td>162670800</td>\n",
       "    </tr>\n",
       "  </tbody>\n",
       "</table>\n",
       "<p>210 rows × 4 columns</p>\n",
       "</div>"
      ],
      "text/plain": [
       "      id      Date       Open     Volume\n",
       "194  194  20190218  95.286393  152515700\n",
       "101  101  20170508  82.882052  266072400\n",
       "68    68  20160919  53.519055  173135900\n",
       "224  224  20190916  86.886132  118980100\n",
       "37    37  20160215  61.679659  253044000\n",
       "..   ...       ...        ...        ...\n",
       "188  188  20190107  92.847220  183787600\n",
       "71    71  20161010  56.970428  232554500\n",
       "106  106  20170612  97.619622  175844000\n",
       "270  270  20200803  74.594197  135904400\n",
       "102  102  20170515  92.449654  162670800\n",
       "\n",
       "[210 rows x 4 columns]"
      ]
     },
     "execution_count": 211,
     "metadata": {},
     "output_type": "execute_result"
    }
   ],
   "source": [
    "pd.DataFrame(X_train)"
   ]
  },
  {
   "cell_type": "markdown",
   "metadata": {},
   "source": [
    "### Models Used"
   ]
  },
  {
   "cell_type": "markdown",
   "metadata": {},
   "source": [
    "We have used 2 Models here:<br/>\n",
    "<ul>\n",
    "    <li>Strategy is just 3 different values and are string value labels, hence we have encoded them and used CLASSIFICATION.</li>\n",
    "    <li>Close is a set of continuous values and for this, we use REGRESSION.</li>\n",
    "</ul>\n",
    "\n",
    "We used the RandomForestClassifier and RandomForestRegressor for the same"
   ]
  },
  {
   "cell_type": "code",
   "execution_count": 212,
   "metadata": {},
   "outputs": [],
   "source": [
    "strategy_classifier = RandomForestClassifier(random_state=42)\n",
    "strategy_classifier.fit(X_train, strategy_train)\n",
    "strategy_pred = strategy_classifier.predict(X_test)"
   ]
  },
  {
   "cell_type": "code",
   "execution_count": 213,
   "metadata": {},
   "outputs": [],
   "source": [
    "close_regressor = RandomForestRegressor(random_state=42)\n",
    "close_regressor.fit(X_train, close_train)\n",
    "close_pred = close_regressor.predict(X_test)"
   ]
  },
  {
   "cell_type": "markdown",
   "metadata": {},
   "source": [
    "Inverse transforming labels to get back their string values."
   ]
  },
  {
   "cell_type": "code",
   "execution_count": 214,
   "metadata": {},
   "outputs": [],
   "source": [
    "strategy_pred_labels = Label_Encoder.inverse_transform(strategy_pred)"
   ]
  },
  {
   "cell_type": "markdown",
   "metadata": {},
   "source": [
    "Initial accuracy score"
   ]
  },
  {
   "cell_type": "code",
   "execution_count": 215,
   "metadata": {},
   "outputs": [
    {
     "data": {
      "text/plain": [
       "0.6444444444444445"
      ]
     },
     "execution_count": 215,
     "metadata": {},
     "output_type": "execute_result"
    }
   ],
   "source": [
    "strategy_accuracy = accuracy_score(strategy_test, strategy_pred)\n",
    "strategy_accuracy"
   ]
  },
  {
   "cell_type": "markdown",
   "metadata": {},
   "source": [
    "The model accuracy is not great but we ensure that there is little to no chance of overfitting. This will significantly help us improve our position when the private leaderboard comes out."
   ]
  },
  {
   "cell_type": "markdown",
   "metadata": {},
   "source": [
    "MSE"
   ]
  },
  {
   "cell_type": "code",
   "execution_count": 216,
   "metadata": {},
   "outputs": [
    {
     "name": "stdout",
     "output_type": "stream",
     "text": [
      "Close MSE: 4.22\n"
     ]
    }
   ],
   "source": [
    "close_rmse = np.sqrt(mean_squared_error(close_test, close_pred))\n",
    "print(f'Close MSE: {close_rmse:.2f}')"
   ]
  },
  {
   "cell_type": "markdown",
   "metadata": {},
   "source": [
    "## Testing"
   ]
  },
  {
   "cell_type": "markdown",
   "metadata": {},
   "source": [
    "<h3>Comments are self-explainatory for this first segment here</h3>"
   ]
  },
  {
   "cell_type": "code",
   "execution_count": 217,
   "metadata": {},
   "outputs": [],
   "source": [
    "# Load the test data\n",
    "test_data = pd.read_csv('test.csv')\n",
    "\n",
    "# Convert 'Date' to numerical format\n",
    "test_data['Date'] = pd.to_datetime(test_data['Date'])\n",
    "test_data['Date'] = test_data['Date'].dt.year * 10000 + test_data['Date'].dt.month * 100 + test_data['Date'].dt.day\n",
    "\n",
    "# Standardize features using the same scaler used for training data\n",
    "X_test_data = scaler.fit_transform(test_data)"
   ]
  },
  {
   "cell_type": "markdown",
   "metadata": {},
   "source": [
    "<h3>Checking</h3>"
   ]
  },
  {
   "cell_type": "code",
   "execution_count": 218,
   "metadata": {},
   "outputs": [
    {
     "data": {
      "text/html": [
       "<div>\n",
       "<style scoped>\n",
       "    .dataframe tbody tr th:only-of-type {\n",
       "        vertical-align: middle;\n",
       "    }\n",
       "\n",
       "    .dataframe tbody tr th {\n",
       "        vertical-align: top;\n",
       "    }\n",
       "\n",
       "    .dataframe thead th {\n",
       "        text-align: right;\n",
       "    }\n",
       "</style>\n",
       "<table border=\"1\" class=\"dataframe\">\n",
       "  <thead>\n",
       "    <tr style=\"text-align: right;\">\n",
       "      <th></th>\n",
       "      <th>0</th>\n",
       "      <th>1</th>\n",
       "      <th>2</th>\n",
       "      <th>3</th>\n",
       "    </tr>\n",
       "  </thead>\n",
       "  <tbody>\n",
       "    <tr>\n",
       "      <th>0</th>\n",
       "      <td>-1.714816</td>\n",
       "      <td>-1.146446</td>\n",
       "      <td>0.272530</td>\n",
       "      <td>0.143479</td>\n",
       "    </tr>\n",
       "    <tr>\n",
       "      <th>1</th>\n",
       "      <td>-1.680173</td>\n",
       "      <td>-1.145189</td>\n",
       "      <td>0.339740</td>\n",
       "      <td>0.284158</td>\n",
       "    </tr>\n",
       "    <tr>\n",
       "      <th>2</th>\n",
       "      <td>-1.645531</td>\n",
       "      <td>-1.143931</td>\n",
       "      <td>0.038493</td>\n",
       "      <td>-0.788253</td>\n",
       "    </tr>\n",
       "    <tr>\n",
       "      <th>3</th>\n",
       "      <td>-1.610888</td>\n",
       "      <td>-1.142674</td>\n",
       "      <td>-0.001004</td>\n",
       "      <td>-0.060988</td>\n",
       "    </tr>\n",
       "    <tr>\n",
       "      <th>4</th>\n",
       "      <td>-1.576245</td>\n",
       "      <td>-1.141416</td>\n",
       "      <td>-0.223829</td>\n",
       "      <td>0.389571</td>\n",
       "    </tr>\n",
       "    <tr>\n",
       "      <th>...</th>\n",
       "      <td>...</td>\n",
       "      <td>...</td>\n",
       "      <td>...</td>\n",
       "      <td>...</td>\n",
       "    </tr>\n",
       "    <tr>\n",
       "      <th>95</th>\n",
       "      <td>1.576245</td>\n",
       "      <td>0.816124</td>\n",
       "      <td>-1.474171</td>\n",
       "      <td>0.471190</td>\n",
       "    </tr>\n",
       "    <tr>\n",
       "      <th>96</th>\n",
       "      <td>1.610888</td>\n",
       "      <td>2.410611</td>\n",
       "      <td>-1.081431</td>\n",
       "      <td>-0.369220</td>\n",
       "    </tr>\n",
       "    <tr>\n",
       "      <th>97</th>\n",
       "      <td>1.645531</td>\n",
       "      <td>2.411868</td>\n",
       "      <td>-0.983596</td>\n",
       "      <td>-0.275558</td>\n",
       "    </tr>\n",
       "    <tr>\n",
       "      <th>98</th>\n",
       "      <td>1.680173</td>\n",
       "      <td>2.413126</td>\n",
       "      <td>-1.652739</td>\n",
       "      <td>-0.601721</td>\n",
       "    </tr>\n",
       "    <tr>\n",
       "      <th>99</th>\n",
       "      <td>1.714816</td>\n",
       "      <td>2.414383</td>\n",
       "      <td>-1.478598</td>\n",
       "      <td>-0.319395</td>\n",
       "    </tr>\n",
       "  </tbody>\n",
       "</table>\n",
       "<p>100 rows × 4 columns</p>\n",
       "</div>"
      ],
      "text/plain": [
       "           0         1         2         3\n",
       "0  -1.714816 -1.146446  0.272530  0.143479\n",
       "1  -1.680173 -1.145189  0.339740  0.284158\n",
       "2  -1.645531 -1.143931  0.038493 -0.788253\n",
       "3  -1.610888 -1.142674 -0.001004 -0.060988\n",
       "4  -1.576245 -1.141416 -0.223829  0.389571\n",
       "..       ...       ...       ...       ...\n",
       "95  1.576245  0.816124 -1.474171  0.471190\n",
       "96  1.610888  2.410611 -1.081431 -0.369220\n",
       "97  1.645531  2.411868 -0.983596 -0.275558\n",
       "98  1.680173  2.413126 -1.652739 -0.601721\n",
       "99  1.714816  2.414383 -1.478598 -0.319395\n",
       "\n",
       "[100 rows x 4 columns]"
      ]
     },
     "execution_count": 218,
     "metadata": {},
     "output_type": "execute_result"
    }
   ],
   "source": [
    "pd.DataFrame(X_test_data)"
   ]
  },
  {
   "cell_type": "markdown",
   "metadata": {},
   "source": [
    "<h3>Making Predictions</h3>"
   ]
  },
  {
   "cell_type": "code",
   "execution_count": 219,
   "metadata": {},
   "outputs": [
    {
     "name": "stderr",
     "output_type": "stream",
     "text": [
      "c:\\Users\\l1972\\AppData\\Local\\Programs\\Python\\Python310\\lib\\site-packages\\sklearn\\base.py:465: UserWarning: X does not have valid feature names, but RandomForestClassifier was fitted with feature names\n",
      "  warnings.warn(\n",
      "c:\\Users\\l1972\\AppData\\Local\\Programs\\Python\\Python310\\lib\\site-packages\\sklearn\\base.py:465: UserWarning: X does not have valid feature names, but RandomForestRegressor was fitted with feature names\n",
      "  warnings.warn(\n"
     ]
    }
   ],
   "source": [
    "# Predict 'Strategy' labels using the RandomForestClassifier\n",
    "strategy_predictions = strategy_classifier.predict(X_test_data)\n",
    "\n",
    "# Predict 'Close' prices using the RandomForestRegressor\n",
    "close_predictions = close_regressor.predict(X_test_data)"
   ]
  },
  {
   "cell_type": "markdown",
   "metadata": {},
   "source": [
    "<h3>Decoding and storing in csv</h3>"
   ]
  },
  {
   "cell_type": "code",
   "execution_count": 220,
   "metadata": {},
   "outputs": [],
   "source": [
    "# Decode 'Strategy' labels back to original format\n",
    "decoded_strategy_predictions = Label_Encoder.inverse_transform(strategy_predictions)\n",
    "\n",
    "# Create a DataFrame for the sample submission format\n",
    "submission_df = pd.DataFrame({\n",
    "    'id': test_data['id'],\n",
    "    'Date': test_data['Date'],\n",
    "    'Close': close_predictions,\n",
    "    'Strategy': decoded_strategy_predictions\n",
    "})\n",
    "\n",
    "# Save the predictions to a CSV file\n",
    "submission_df.to_csv('sample_submission.csv', index=False)\n",
    "\n",
    "submission_df['Date'] = pd.to_datetime(submission_df['Date'], format='%Y%m%d')\n",
    "\n",
    "# Save the predictions to a CSV file with the original date format\n",
    "submission_df.to_csv('sample_submission.csv', index=False)"
   ]
  },
  {
   "cell_type": "markdown",
   "metadata": {},
   "source": [
    "We didn't Overcomplicate our model, we just used the data naturally in this draft. Like this one, we make 7 different iterations of RandomForest trying to get the best accuracy, but the problem were that the dataset is too small to get maximum accuracy using randomforest alone.<br/><br/> We tried using GridSearchCV and even XGBoost. Our public score did improve but public score does not tell anything about the amount of Overfitting. So, once the Private Scores were out, We came to a realization that the Accuracy was low due to size of Dataset but our model was giving very less overfitting as compared to many others."
   ]
  },
  {
   "cell_type": "markdown",
   "metadata": {},
   "source": []
  }
 ],
 "metadata": {
  "kernelspec": {
   "display_name": "Python 3",
   "language": "python",
   "name": "python3"
  },
  "language_info": {
   "codemirror_mode": {
    "name": "ipython",
    "version": 3
   },
   "file_extension": ".py",
   "mimetype": "text/x-python",
   "name": "python",
   "nbconvert_exporter": "python",
   "pygments_lexer": "ipython3",
   "version": "3.10.4"
  }
 },
 "nbformat": 4,
 "nbformat_minor": 2
}
