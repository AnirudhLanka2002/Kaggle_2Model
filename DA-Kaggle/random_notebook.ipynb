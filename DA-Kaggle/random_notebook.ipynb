{
 "cells": [
  {
   "cell_type": "code",
   "execution_count": 6,
   "metadata": {},
   "outputs": [],
   "source": [
    "import pandas as pd\n",
    "import numpy as np\n",
    "from sklearn.model_selection import train_test_split\n",
    "from sklearn.preprocessing import StandardScaler, LabelEncoder\n",
    "from sklearn.ensemble import RandomForestClassifier, RandomForestRegressor\n",
    "from sklearn.metrics import accuracy_score, mean_squared_error"
   ]
  },
  {
   "cell_type": "code",
   "execution_count": 7,
   "metadata": {},
   "outputs": [
    {
     "name": "stdout",
     "output_type": "stream",
     "text": [
      "      id      Date       Open      Close     Volume Strategy\n",
      "0      0  20150601  66.208486  75.609978  298506300     Hold\n",
      "1      1  20150608  64.116235  74.443331  227974800     Hold\n",
      "2      2  20150615  47.701942  71.140831  250670900      Buy\n",
      "3      3  20150622  54.754816  72.881344  223614300     Hold\n",
      "4      4  20150629  48.031899  66.284718  406814900      Buy\n",
      "..   ...       ...        ...        ...        ...      ...\n",
      "295  295  20210125  81.284821  83.373498  117281600     Sell\n",
      "296  296  20210201  71.970249  85.294903  177655800     Sell\n",
      "297  297  20210208  71.784627  83.266453  146003500     Hold\n",
      "298  298  20210215  69.372333  81.026827  167762500     Hold\n",
      "299  299  20210222  69.618620  78.672007  332979200     Hold\n",
      "\n",
      "[300 rows x 6 columns]\n"
     ]
    }
   ],
   "source": [
    "# Sample dataset (assuming you have your preprocessed data in a DataFrame called df)\n",
    "data = pd.read_csv('train.csv')\n",
    "df = pd.DataFrame(data)\n",
    "\n",
    "# Convert 'Date' column to datetime format\n",
    "df['Date'] = pd.to_datetime(df['Date'])\n",
    "# Extract date components and concatenate them into a single numerical value\n",
    "# data['DateNumerical'] = data['Date'].dt.year * 10000 + data['Date'].dt.month * 100 + data['Date'].dt.day\n",
    "df['Date'] = df['Date'].dt.year * 10000 + df['Date'].dt.month * 100 + df['Date'].dt.day\n",
    "# Print the updated DataFrame\n",
    "print(df)"
   ]
  },
  {
   "cell_type": "code",
   "execution_count": 8,
   "metadata": {},
   "outputs": [],
   "source": [
    "# Separate features and target variables\n",
    "features = df.drop(columns=['Strategy', 'Close'])\n",
    "strategy_labels = df['Strategy']\n",
    "close_labels = df['Close']\n",
    "\n",
    "# Standardize features (optional but recommended for many machine learning models)\n",
    "scaler = StandardScaler()\n",
    "scaled_features = scaler.fit_transform(features)\n",
    "\n",
    "# Encode 'Strategy' labels\n",
    "strategy_label_encoder = LabelEncoder()\n",
    "strategy_labels_encoded = strategy_label_encoder.fit_transform(strategy_labels)\n",
    "\n",
    "# Split the data into training and testing sets\n",
    "X_train, X_test, strategy_train, strategy_test, close_train, close_test = train_test_split(\n",
    "    scaled_features, strategy_labels_encoded, close_labels, test_size=0.2, random_state=42\n",
    ")"
   ]
  },
  {
   "cell_type": "code",
   "execution_count": 9,
   "metadata": {},
   "outputs": [],
   "source": [
    "# Use Random Forest Classifier for 'Strategy' prediction\n",
    "strategy_classifier = RandomForestClassifier(random_state=42)\n",
    "strategy_classifier.fit(X_train, strategy_train)\n",
    "strategy_pred = strategy_classifier.predict(X_test)\n",
    "\n",
    "# Use Random Forest Regressor for 'Close' prediction\n",
    "close_regressor = RandomForestRegressor(random_state=42)\n",
    "close_regressor.fit(X_train, close_train)\n",
    "close_pred = close_regressor.predict(X_test)\n",
    "\n",
    "# Decode strategy predictions back to original labels\n",
    "strategy_pred_labels = strategy_label_encoder.inverse_transform(strategy_pred)"
   ]
  },
  {
   "cell_type": "code",
   "execution_count": 10,
   "metadata": {},
   "outputs": [
    {
     "name": "stdout",
     "output_type": "stream",
     "text": [
      "Strategy Accuracy: 0.72\n",
      "Close RMSE: 4.03\n",
      "Example Strategy Predictions: ['Hold' 'Hold' 'Hold' 'Buy' 'Buy']\n",
      "Example Close Predictions: [91.25242525 80.48178998 92.67501891 57.4126402  83.96640237]\n"
     ]
    }
   ],
   "source": [
    "# Calculate accuracy for 'Strategy' prediction\n",
    "strategy_accuracy = accuracy_score(strategy_test, strategy_pred)\n",
    "\n",
    "# Calculate RMSE for 'Close' prediction\n",
    "close_rmse = np.sqrt(mean_squared_error(close_test, close_pred))\n",
    "\n",
    "print(f'Strategy Accuracy: {strategy_accuracy:.2f}')\n",
    "print(f'Close RMSE: {close_rmse:.2f}')\n",
    "\n",
    "# Print example predictions\n",
    "print(\"Example Strategy Predictions:\", strategy_pred_labels[:5])\n",
    "print(\"Example Close Predictions:\", close_pred[:5])\n"
   ]
  }
 ],
 "metadata": {
  "kernelspec": {
   "display_name": "Python 3",
   "language": "python",
   "name": "python3"
  },
  "language_info": {
   "codemirror_mode": {
    "name": "ipython",
    "version": 3
   },
   "file_extension": ".py",
   "mimetype": "text/x-python",
   "name": "python",
   "nbconvert_exporter": "python",
   "pygments_lexer": "ipython3",
   "version": "3.10.4"
  }
 },
 "nbformat": 4,
 "nbformat_minor": 2
}
