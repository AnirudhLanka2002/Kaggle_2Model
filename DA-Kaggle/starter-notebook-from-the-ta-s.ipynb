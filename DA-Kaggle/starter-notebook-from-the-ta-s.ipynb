{
 "cells": [
  {
   "cell_type": "markdown",
   "id": "42e172c4",
   "metadata": {
    "papermill": {
     "duration": 0.004031,
     "end_time": "2023-10-20T18:36:12.002402",
     "exception": false,
     "start_time": "2023-10-20T18:36:11.998371",
     "status": "completed"
    },
    "tags": []
   },
   "source": [
    "# Sample Notebook for the Data Analytics Hackathon"
   ]
  },
  {
   "cell_type": "markdown",
   "id": "88cd80b0",
   "metadata": {
    "papermill": {
     "duration": 0.003313,
     "end_time": "2023-10-20T18:36:12.011591",
     "exception": false,
     "start_time": "2023-10-20T18:36:12.008278",
     "status": "completed"
    },
    "tags": []
   },
   "source": [
    "* The notebook that you submit **must** run (without *any* errors), and create a `submission.csv` file, in the required format.\n",
    "\n",
    "* This notebook should serve as a template to your final notebook submission."
   ]
  },
  {
   "cell_type": "code",
   "execution_count": 1,
   "id": "76d94a3f",
   "metadata": {
    "_cell_guid": "b1076dfc-b9ad-4769-8c92-a6c4dae69d19",
    "_uuid": "8f2839f25d086af736a60e9eeb907d3b93b6e0e5",
    "execution": {
     "iopub.execute_input": "2023-10-20T18:36:12.020670Z",
     "iopub.status.busy": "2023-10-20T18:36:12.020009Z",
     "iopub.status.idle": "2023-10-20T18:36:12.801662Z",
     "shell.execute_reply": "2023-10-20T18:36:12.800337Z"
    },
    "papermill": {
     "duration": 0.789682,
     "end_time": "2023-10-20T18:36:12.804759",
     "exception": false,
     "start_time": "2023-10-20T18:36:12.015077",
     "status": "completed"
    },
    "tags": []
   },
   "outputs": [
    {
     "name": "stdout",
     "output_type": "stream",
     "text": [
      "/kaggle/input/ue21cs342aa2/sample_submission.csv\n",
      "/kaggle/input/ue21cs342aa2/train.csv\n",
      "/kaggle/input/ue21cs342aa2/test.csv\n"
     ]
    }
   ],
   "source": [
    "# This Python 3 environment comes with many helpful analytics libraries installed\n",
    "# It is defined by the kaggle/python Docker image: https://github.com/kaggle/docker-python\n",
    "# For example, here's several helpful packages to load\n",
    "\n",
    "import numpy as np # linear algebra\n",
    "import pandas as pd # data processing, CSV file I/O (e.g. pd.read_csv)\n",
    "\n",
    "# Input data files are available in the read-only \"../input/\" directory\n",
    "# For example, running this (by clicking run or pressing Shift+Enter) will list all files under the input directory\n",
    "\n",
    "import os\n",
    "for dirname, _, filenames in os.walk('/kaggle/input'):\n",
    "    for filename in filenames:\n",
    "        print(os.path.join(dirname, filename))\n",
    "\n",
    "# You can write up to 20GB to the current directory (/kaggle/working/) that gets preserved as output when you create a version using \"Save & Run All\" \n",
    "# You can also write temporary files to /kaggle/temp/, but they won't be saved outside of the current session"
   ]
  },
  {
   "cell_type": "markdown",
   "id": "93cb198a",
   "metadata": {
    "papermill": {
     "duration": 0.003425,
     "end_time": "2023-10-20T18:36:12.812292",
     "exception": false,
     "start_time": "2023-10-20T18:36:12.808867",
     "status": "completed"
    },
    "tags": []
   },
   "source": [
    "`index_col` helps you to retain the index as provided in the dataset."
   ]
  },
  {
   "cell_type": "code",
   "execution_count": 2,
   "id": "376f5ac3",
   "metadata": {
    "execution": {
     "iopub.execute_input": "2023-10-20T18:36:12.821281Z",
     "iopub.status.busy": "2023-10-20T18:36:12.820749Z",
     "iopub.status.idle": "2023-10-20T18:36:12.859299Z",
     "shell.execute_reply": "2023-10-20T18:36:12.857855Z"
    },
    "papermill": {
     "duration": 0.046287,
     "end_time": "2023-10-20T18:36:12.862149",
     "exception": false,
     "start_time": "2023-10-20T18:36:12.815862",
     "status": "completed"
    },
    "tags": []
   },
   "outputs": [],
   "source": [
    "train = pd.read_csv(\"/kaggle/input/ue21cs342aa2/train.csv\", index_col = 0)\n",
    "test = pd.read_csv(\"/kaggle/input/ue21cs342aa2/test.csv\", index_col = 0)"
   ]
  },
  {
   "cell_type": "code",
   "execution_count": 3,
   "id": "cac52587",
   "metadata": {
    "execution": {
     "iopub.execute_input": "2023-10-20T18:36:12.871447Z",
     "iopub.status.busy": "2023-10-20T18:36:12.871063Z",
     "iopub.status.idle": "2023-10-20T18:36:12.890083Z",
     "shell.execute_reply": "2023-10-20T18:36:12.889031Z"
    },
    "papermill": {
     "duration": 0.026041,
     "end_time": "2023-10-20T18:36:12.892100",
     "exception": false,
     "start_time": "2023-10-20T18:36:12.866059",
     "status": "completed"
    },
    "tags": []
   },
   "outputs": [
    {
     "data": {
      "text/html": [
       "<div>\n",
       "<style scoped>\n",
       "    .dataframe tbody tr th:only-of-type {\n",
       "        vertical-align: middle;\n",
       "    }\n",
       "\n",
       "    .dataframe tbody tr th {\n",
       "        vertical-align: top;\n",
       "    }\n",
       "\n",
       "    .dataframe thead th {\n",
       "        text-align: right;\n",
       "    }\n",
       "</style>\n",
       "<table border=\"1\" class=\"dataframe\">\n",
       "  <thead>\n",
       "    <tr style=\"text-align: right;\">\n",
       "      <th></th>\n",
       "      <th>Date</th>\n",
       "      <th>Open</th>\n",
       "      <th>Close</th>\n",
       "      <th>Volume</th>\n",
       "      <th>Strategy</th>\n",
       "    </tr>\n",
       "    <tr>\n",
       "      <th>id</th>\n",
       "      <th></th>\n",
       "      <th></th>\n",
       "      <th></th>\n",
       "      <th></th>\n",
       "      <th></th>\n",
       "    </tr>\n",
       "  </thead>\n",
       "  <tbody>\n",
       "    <tr>\n",
       "      <th>0</th>\n",
       "      <td>2015-06-01</td>\n",
       "      <td>66.208486</td>\n",
       "      <td>75.609978</td>\n",
       "      <td>298506300</td>\n",
       "      <td>Hold</td>\n",
       "    </tr>\n",
       "    <tr>\n",
       "      <th>1</th>\n",
       "      <td>2015-06-08</td>\n",
       "      <td>64.116235</td>\n",
       "      <td>74.443331</td>\n",
       "      <td>227974800</td>\n",
       "      <td>Hold</td>\n",
       "    </tr>\n",
       "    <tr>\n",
       "      <th>2</th>\n",
       "      <td>2015-06-15</td>\n",
       "      <td>47.701942</td>\n",
       "      <td>71.140831</td>\n",
       "      <td>250670900</td>\n",
       "      <td>Buy</td>\n",
       "    </tr>\n",
       "    <tr>\n",
       "      <th>3</th>\n",
       "      <td>2015-06-22</td>\n",
       "      <td>54.754816</td>\n",
       "      <td>72.881344</td>\n",
       "      <td>223614300</td>\n",
       "      <td>Hold</td>\n",
       "    </tr>\n",
       "    <tr>\n",
       "      <th>4</th>\n",
       "      <td>2015-06-29</td>\n",
       "      <td>48.031899</td>\n",
       "      <td>66.284718</td>\n",
       "      <td>406814900</td>\n",
       "      <td>Buy</td>\n",
       "    </tr>\n",
       "  </tbody>\n",
       "</table>\n",
       "</div>"
      ],
      "text/plain": [
       "          Date       Open      Close     Volume Strategy\n",
       "id                                                      \n",
       "0   2015-06-01  66.208486  75.609978  298506300     Hold\n",
       "1   2015-06-08  64.116235  74.443331  227974800     Hold\n",
       "2   2015-06-15  47.701942  71.140831  250670900      Buy\n",
       "3   2015-06-22  54.754816  72.881344  223614300     Hold\n",
       "4   2015-06-29  48.031899  66.284718  406814900      Buy"
      ]
     },
     "execution_count": 3,
     "metadata": {},
     "output_type": "execute_result"
    }
   ],
   "source": [
    "train.head()"
   ]
  },
  {
   "cell_type": "markdown",
   "id": "d09df223",
   "metadata": {
    "papermill": {
     "duration": 0.003529,
     "end_time": "2023-10-20T18:36:12.899492",
     "exception": false,
     "start_time": "2023-10-20T18:36:12.895963",
     "status": "completed"
    },
    "tags": []
   },
   "source": [
    "# Your model creation, training and inferencing code, along with suitable analysis and reasoning!"
   ]
  },
  {
   "cell_type": "code",
   "execution_count": 4,
   "id": "9d3737a4",
   "metadata": {
    "execution": {
     "iopub.execute_input": "2023-10-20T18:36:12.908667Z",
     "iopub.status.busy": "2023-10-20T18:36:12.908254Z",
     "iopub.status.idle": "2023-10-20T18:36:12.918207Z",
     "shell.execute_reply": "2023-10-20T18:36:12.916990Z"
    },
    "papermill": {
     "duration": 0.01745,
     "end_time": "2023-10-20T18:36:12.920643",
     "exception": false,
     "start_time": "2023-10-20T18:36:12.903193",
     "status": "completed"
    },
    "tags": []
   },
   "outputs": [],
   "source": [
    "submission = pd.DataFrame()\n",
    "submission[\"Date\"] = test[\"Date\"]"
   ]
  },
  {
   "cell_type": "code",
   "execution_count": 5,
   "id": "66596b9b",
   "metadata": {
    "execution": {
     "iopub.execute_input": "2023-10-20T18:36:12.930486Z",
     "iopub.status.busy": "2023-10-20T18:36:12.930028Z",
     "iopub.status.idle": "2023-10-20T18:36:12.939122Z",
     "shell.execute_reply": "2023-10-20T18:36:12.938334Z"
    },
    "papermill": {
     "duration": 0.016287,
     "end_time": "2023-10-20T18:36:12.941117",
     "exception": false,
     "start_time": "2023-10-20T18:36:12.924830",
     "status": "completed"
    },
    "tags": []
   },
   "outputs": [],
   "source": [
    "sample_submission = pd.read_csv('/kaggle/input/ue21cs342aa2/sample_submission.csv', index_col = 0)"
   ]
  },
  {
   "cell_type": "code",
   "execution_count": 6,
   "id": "ea69460d",
   "metadata": {
    "execution": {
     "iopub.execute_input": "2023-10-20T18:36:12.950529Z",
     "iopub.status.busy": "2023-10-20T18:36:12.950174Z",
     "iopub.status.idle": "2023-10-20T18:36:12.956356Z",
     "shell.execute_reply": "2023-10-20T18:36:12.955392Z"
    },
    "papermill": {
     "duration": 0.013274,
     "end_time": "2023-10-20T18:36:12.958424",
     "exception": false,
     "start_time": "2023-10-20T18:36:12.945150",
     "status": "completed"
    },
    "tags": []
   },
   "outputs": [],
   "source": [
    "submission[\"Close\"] = sample_submission[\"Close\"]\n",
    "submission[\"Strategy\"] = sample_submission[\"Strategy\"]"
   ]
  },
  {
   "cell_type": "markdown",
   "id": "a0f09ef9",
   "metadata": {
    "papermill": {
     "duration": 0.004346,
     "end_time": "2023-10-20T18:36:12.967274",
     "exception": false,
     "start_time": "2023-10-20T18:36:12.962928",
     "status": "completed"
    },
    "tags": []
   },
   "source": [
    "### In the cell above, we have just provided an example of how to create your submission DataFrame. Please make sure to use **your own forecasts and predictions**, in place of `sample_submission[\"Close\"]` and `sample_submission[\"Strategy\"]`"
   ]
  },
  {
   "cell_type": "code",
   "execution_count": 7,
   "id": "d9e8eb7b",
   "metadata": {
    "execution": {
     "iopub.execute_input": "2023-10-20T18:36:12.977388Z",
     "iopub.status.busy": "2023-10-20T18:36:12.976619Z",
     "iopub.status.idle": "2023-10-20T18:36:12.988153Z",
     "shell.execute_reply": "2023-10-20T18:36:12.987005Z"
    },
    "papermill": {
     "duration": 0.019175,
     "end_time": "2023-10-20T18:36:12.990502",
     "exception": false,
     "start_time": "2023-10-20T18:36:12.971327",
     "status": "completed"
    },
    "tags": []
   },
   "outputs": [
    {
     "data": {
      "text/html": [
       "<div>\n",
       "<style scoped>\n",
       "    .dataframe tbody tr th:only-of-type {\n",
       "        vertical-align: middle;\n",
       "    }\n",
       "\n",
       "    .dataframe tbody tr th {\n",
       "        vertical-align: top;\n",
       "    }\n",
       "\n",
       "    .dataframe thead th {\n",
       "        text-align: right;\n",
       "    }\n",
       "</style>\n",
       "<table border=\"1\" class=\"dataframe\">\n",
       "  <thead>\n",
       "    <tr style=\"text-align: right;\">\n",
       "      <th></th>\n",
       "      <th>Date</th>\n",
       "      <th>Close</th>\n",
       "      <th>Strategy</th>\n",
       "    </tr>\n",
       "    <tr>\n",
       "      <th>id</th>\n",
       "      <th></th>\n",
       "      <th></th>\n",
       "      <th></th>\n",
       "    </tr>\n",
       "  </thead>\n",
       "  <tbody>\n",
       "    <tr>\n",
       "      <th>0</th>\n",
       "      <td>2021-03-01</td>\n",
       "      <td>445.681993</td>\n",
       "      <td>Buy</td>\n",
       "    </tr>\n",
       "    <tr>\n",
       "      <th>1</th>\n",
       "      <td>2021-03-08</td>\n",
       "      <td>646.184648</td>\n",
       "      <td>Buy</td>\n",
       "    </tr>\n",
       "    <tr>\n",
       "      <th>2</th>\n",
       "      <td>2021-03-15</td>\n",
       "      <td>169.994384</td>\n",
       "      <td>Buy</td>\n",
       "    </tr>\n",
       "    <tr>\n",
       "      <th>3</th>\n",
       "      <td>2021-03-22</td>\n",
       "      <td>194.417785</td>\n",
       "      <td>Buy</td>\n",
       "    </tr>\n",
       "    <tr>\n",
       "      <th>4</th>\n",
       "      <td>2021-03-29</td>\n",
       "      <td>398.390067</td>\n",
       "      <td>Buy</td>\n",
       "    </tr>\n",
       "  </tbody>\n",
       "</table>\n",
       "</div>"
      ],
      "text/plain": [
       "          Date       Close Strategy\n",
       "id                                 \n",
       "0   2021-03-01  445.681993      Buy\n",
       "1   2021-03-08  646.184648      Buy\n",
       "2   2021-03-15  169.994384      Buy\n",
       "3   2021-03-22  194.417785      Buy\n",
       "4   2021-03-29  398.390067      Buy"
      ]
     },
     "execution_count": 7,
     "metadata": {},
     "output_type": "execute_result"
    }
   ],
   "source": [
    "submission.head()"
   ]
  },
  {
   "cell_type": "code",
   "execution_count": 8,
   "id": "d10cc2c4",
   "metadata": {
    "execution": {
     "iopub.execute_input": "2023-10-20T18:36:13.000646Z",
     "iopub.status.busy": "2023-10-20T18:36:13.000263Z",
     "iopub.status.idle": "2023-10-20T18:36:13.008377Z",
     "shell.execute_reply": "2023-10-20T18:36:13.007519Z"
    },
    "papermill": {
     "duration": 0.015932,
     "end_time": "2023-10-20T18:36:13.010647",
     "exception": false,
     "start_time": "2023-10-20T18:36:12.994715",
     "status": "completed"
    },
    "tags": []
   },
   "outputs": [],
   "source": [
    "submission.to_csv('submission.csv', index=True)"
   ]
  },
  {
   "cell_type": "code",
   "execution_count": null,
   "id": "63b6f815",
   "metadata": {
    "papermill": {
     "duration": 0.003912,
     "end_time": "2023-10-20T18:36:13.018822",
     "exception": false,
     "start_time": "2023-10-20T18:36:13.014910",
     "status": "completed"
    },
    "tags": []
   },
   "outputs": [],
   "source": []
  }
 ],
 "metadata": {
  "kernelspec": {
   "display_name": "Python 3",
   "language": "python",
   "name": "python3"
  },
  "language_info": {
   "codemirror_mode": {
    "name": "ipython",
    "version": 3
   },
   "file_extension": ".py",
   "mimetype": "text/x-python",
   "name": "python",
   "nbconvert_exporter": "python",
   "pygments_lexer": "ipython3",
   "version": "3.10.12"
  },
  "papermill": {
   "default_parameters": {},
   "duration": 5.803033,
   "end_time": "2023-10-20T18:36:13.543416",
   "environment_variables": {},
   "exception": null,
   "input_path": "__notebook__.ipynb",
   "output_path": "__notebook__.ipynb",
   "parameters": {},
   "start_time": "2023-10-20T18:36:07.740383",
   "version": "2.4.0"
  }
 },
 "nbformat": 4,
 "nbformat_minor": 5
}
